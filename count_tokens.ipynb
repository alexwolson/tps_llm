{
 "cells": [
  {
   "metadata": {
    "ExecuteTime": {
     "end_time": "2024-07-02T23:45:17.496276Z",
     "start_time": "2024-07-02T23:45:17.464507Z"
    }
   },
   "cell_type": "code",
   "source": "import tiktoken",
   "id": "ee3749fbfd8da914",
   "outputs": [],
   "execution_count": 1
  },
  {
   "metadata": {
    "ExecuteTime": {
     "end_time": "2024-07-02T23:46:14.512173Z",
     "start_time": "2024-07-02T23:46:14.506867Z"
    }
   },
   "cell_type": "code",
   "source": [
    "with open('public_agenda_june24_.txt', 'r') as f:\n",
    "    text = f.read()"
   ],
   "id": "d4b6934d62fe4ccd",
   "outputs": [],
   "execution_count": 3
  },
  {
   "metadata": {
    "ExecuteTime": {
     "end_time": "2024-07-02T23:46:59.470281Z",
     "start_time": "2024-07-02T23:46:59.464625Z"
    }
   },
   "cell_type": "code",
   "source": [
    "def num_tokens_from_string(string: str, encoding_name: str) -> int:\n",
    "    \"\"\"Returns the number of tokens in a text string.\"\"\"\n",
    "    encoding = tiktoken.encoding_for_model(encoding_name)\n",
    "    num_tokens = len(encoding.encode(string))\n",
    "    return num_tokens"
   ],
   "id": "aa7dddd0aee6df33",
   "outputs": [],
   "execution_count": 7
  },
  {
   "metadata": {
    "ExecuteTime": {
     "end_time": "2024-07-02T23:49:36.059651Z",
     "start_time": "2024-07-02T23:49:35.919105Z"
    }
   },
   "cell_type": "code",
   "source": "gpt_35_ct = num_tokens_from_string(text, \"gpt-3.5-turbo\")",
   "id": "67f5bb5aeb1592e",
   "outputs": [],
   "execution_count": 10
  },
  {
   "metadata": {
    "ExecuteTime": {
     "end_time": "2024-07-02T23:49:36.348860Z",
     "start_time": "2024-07-02T23:49:36.177105Z"
    }
   },
   "cell_type": "code",
   "source": "gpt_4_ct = num_tokens_from_string(text, \"gpt-4o\")",
   "id": "bc47a85a7cbd0de5",
   "outputs": [],
   "execution_count": 11
  },
  {
   "metadata": {
    "ExecuteTime": {
     "end_time": "2024-07-02T23:49:53.639992Z",
     "start_time": "2024-07-02T23:49:53.635222Z"
    }
   },
   "cell_type": "code",
   "source": [
    "#gpt-4o US$5.00 /1M input tokens\n",
    "#gpt-3.5-turbo US$0.50 /1M input tokens\n",
    "\n",
    "print(f'GPT-3.5-turbo: {gpt_35_ct} tokens, cost: US${gpt_35_ct/1_000_000*0.50:.2f}')\n",
    "print(f'GPT-4o: {gpt_4_ct} tokens, cost: US${gpt_4_ct/1_000_000*5:.2f}')"
   ],
   "id": "3945845393b15345",
   "outputs": [
    {
     "name": "stdout",
     "output_type": "stream",
     "text": [
      "GPT-3.5-turbo: 102996 tokens, cost: US$0.05\n",
      "GPT-4o: 102031 tokens, cost: US$0.51\n"
     ]
    }
   ],
   "execution_count": 12
  },
  {
   "metadata": {
    "ExecuteTime": {
     "end_time": "2024-07-02T23:50:23.823979Z",
     "start_time": "2024-07-02T23:50:23.817361Z"
    }
   },
   "cell_type": "code",
   "source": [
    "with open('prompt.txt') as f:\n",
    "    prompt = f.read()\n",
    "    \n",
    "prompt_ct_35 = num_tokens_from_string(prompt, \"gpt-3.5-turbo\")\n",
    "prompt_ct_4 = num_tokens_from_string(prompt, \"gpt-4o\")"
   ],
   "id": "23d6e7f7aa859b9d",
   "outputs": [],
   "execution_count": 13
  },
  {
   "metadata": {
    "ExecuteTime": {
     "end_time": "2024-07-02T23:50:30.486650Z",
     "start_time": "2024-07-02T23:50:30.482012Z"
    }
   },
   "cell_type": "code",
   "source": [
    "print(f'Prompt GPT-3.5-turbo: {prompt_ct_35} tokens, cost: US${prompt_ct_35/1_000_000*0.50:.2f}')\n",
    "print(f'Prompt GPT-4o: {prompt_ct_4} tokens, cost: US${prompt_ct_4/1_000_000*5:.2f}')"
   ],
   "id": "a0c2e31d8f2d9864",
   "outputs": [
    {
     "name": "stdout",
     "output_type": "stream",
     "text": [
      "Prompt GPT-3.5-turbo: 465 tokens, cost: US$0.00\n",
      "Prompt GPT-4o: 459 tokens, cost: US$0.00\n"
     ]
    }
   ],
   "execution_count": 14
  },
  {
   "metadata": {
    "ExecuteTime": {
     "end_time": "2024-07-02T23:58:05.722593Z",
     "start_time": "2024-07-02T23:58:05.156045Z"
    }
   },
   "cell_type": "code",
   "source": [
    "# Script breaks it up into 10000 *character* chunks and adds the prompt to each chunk\n",
    "# So we need to calculate the number of tokens in each chunk\n",
    "\n",
    "chunk_size = 10000\n",
    "\n",
    "chunks = [text[i:i+chunk_size]+prompt for i in range(0, len(text), chunk_size)]\n",
    "\n",
    "chunk_ct_35 = sum(num_tokens_from_string(chunk, \"gpt-3.5-turbo\") for chunk in chunks)\n",
    "chunk_ct_4 = sum(num_tokens_from_string(chunk, \"gpt-4o\") for chunk in chunks)"
   ],
   "id": "5ef0f7e11cbb4824",
   "outputs": [],
   "execution_count": 22
  },
  {
   "metadata": {
    "ExecuteTime": {
     "end_time": "2024-07-02T23:58:05.735361Z",
     "start_time": "2024-07-02T23:58:05.728593Z"
    }
   },
   "cell_type": "code",
   "source": [
    "print(f'Chunks GPT-3.5-turbo: {chunk_ct_35} tokens, cost: US${chunk_ct_35/1_000_000*0.50:.2f}')\n",
    "print(f'Chunks GPT-4o: {chunk_ct_4} tokens, cost: US${chunk_ct_4/1_000_000*5:.2f}')"
   ],
   "id": "abc501a5851dbd66",
   "outputs": [
    {
     "name": "stdout",
     "output_type": "stream",
     "text": [
      "Chunks GPT-3.5-turbo: 125841 tokens, cost: US$0.06\n",
      "Chunks GPT-4o: 124582 tokens, cost: US$0.62\n"
     ]
    }
   ],
   "execution_count": 23
  },
  {
   "metadata": {
    "ExecuteTime": {
     "end_time": "2024-07-02T23:57:25.552652Z",
     "start_time": "2024-07-02T23:57:25.522306Z"
    }
   },
   "cell_type": "code",
   "source": "295*0.06",
   "id": "eecf99101f50b6ab",
   "outputs": [
    {
     "data": {
      "text/plain": [
       "17.7"
      ]
     },
     "execution_count": 18,
     "metadata": {},
     "output_type": "execute_result"
    }
   ],
   "execution_count": 18
  },
  {
   "metadata": {
    "ExecuteTime": {
     "end_time": "2024-07-02T23:57:29.987320Z",
     "start_time": "2024-07-02T23:57:29.981186Z"
    }
   },
   "cell_type": "code",
   "source": "295*0.62",
   "id": "337c2d0f4e5a76e",
   "outputs": [
    {
     "data": {
      "text/plain": [
       "182.9"
      ]
     },
     "execution_count": 19,
     "metadata": {},
     "output_type": "execute_result"
    }
   ],
   "execution_count": 19
  },
  {
   "metadata": {},
   "cell_type": "code",
   "outputs": [],
   "execution_count": null,
   "source": "",
   "id": "f5da6de6698a47a2"
  }
 ],
 "metadata": {
  "kernelspec": {
   "display_name": "Python 3",
   "language": "python",
   "name": "python3"
  },
  "language_info": {
   "codemirror_mode": {
    "name": "ipython",
    "version": 2
   },
   "file_extension": ".py",
   "mimetype": "text/x-python",
   "name": "python",
   "nbconvert_exporter": "python",
   "pygments_lexer": "ipython2",
   "version": "2.7.6"
  }
 },
 "nbformat": 4,
 "nbformat_minor": 5
}
