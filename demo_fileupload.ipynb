{
 "cells": [
  {
   "cell_type": "code",
   "id": "initial_id",
   "metadata": {
    "collapsed": true,
    "ExecuteTime": {
     "end_time": "2024-07-02T23:18:00.689060Z",
     "start_time": "2024-07-02T23:17:59.966385Z"
    }
   },
   "source": [
    "from openai import OpenAI\n",
    "from pathlib import Path\n",
    "\n",
    "key = open('openai.key').read().strip()\n",
    "client = OpenAI(api_key=key, organization='org-l0QXnTWrsY221IPu8QIF1k1H', project='proj_hdXOnDa32fjKeT330EowFZsc')"
   ],
   "outputs": [],
   "execution_count": 1
  },
  {
   "metadata": {
    "ExecuteTime": {
     "end_time": "2024-07-02T23:18:00.696405Z",
     "start_time": "2024-07-02T23:18:00.691733Z"
    }
   },
   "cell_type": "code",
   "source": "pdf_path = Path('public_agenda_june24_.pdf')",
   "id": "cc0a9cd6971ec526",
   "outputs": [],
   "execution_count": 2
  },
  {
   "metadata": {
    "ExecuteTime": {
     "end_time": "2024-07-02T23:18:03.168734Z",
     "start_time": "2024-07-02T23:18:00.698473Z"
    }
   },
   "cell_type": "code",
   "source": "message_file = client.files.create(file=pdf_path, purpose='assistants')",
   "id": "587f165850bdcbc6",
   "outputs": [],
   "execution_count": 3
  },
  {
   "metadata": {
    "ExecuteTime": {
     "end_time": "2024-07-02T23:18:03.177381Z",
     "start_time": "2024-07-02T23:18:03.173124Z"
    }
   },
   "cell_type": "code",
   "source": [
    "with open('prompt.txt') as f:\n",
    "    prompt = f.read()"
   ],
   "id": "5ade97c90851ad16",
   "outputs": [],
   "execution_count": 4
  },
  {
   "metadata": {
    "ExecuteTime": {
     "end_time": "2024-07-02T23:18:03.710041Z",
     "start_time": "2024-07-02T23:18:03.179445Z"
    }
   },
   "cell_type": "code",
   "source": [
    "thread = client.beta.threads.create(\n",
    "    messages=[\n",
    "        {\n",
    "            \"role\": \"user\",\n",
    "            \"content\": prompt,\n",
    "            \"attachments\": [\n",
    "                { \"file_id\": message_file.id, \"tools\": [{\"type\": \"file_search\"}] }\n",
    "            ],\n",
    "        }\n",
    "    ]\n",
    ")"
   ],
   "id": "dbfe3fb08119173f",
   "outputs": [],
   "execution_count": 5
  },
  {
   "metadata": {
    "ExecuteTime": {
     "end_time": "2024-07-02T23:18:03.916456Z",
     "start_time": "2024-07-02T23:18:03.711851Z"
    }
   },
   "cell_type": "code",
   "source": [
    "assistant = client.beta.assistants.create(\n",
    "    name=\"Technology Purchases\",\n",
    "    instructions=prompt,\n",
    "    model='gpt-4o',\n",
    "    tools=[{\"type\": \"file_search\"}],\n",
    ")"
   ],
   "id": "b8bc8369fa528b8a",
   "outputs": [],
   "execution_count": 6
  },
  {
   "metadata": {
    "ExecuteTime": {
     "end_time": "2024-07-02T23:18:13.771731Z",
     "start_time": "2024-07-02T23:18:03.918492Z"
    }
   },
   "cell_type": "code",
   "source": [
    "run = client.beta.threads.runs.create_and_poll(\n",
    "    thread_id=thread.id, assistant_id=assistant.id\n",
    ")"
   ],
   "id": "c309026c336ab186",
   "outputs": [],
   "execution_count": 7
  },
  {
   "metadata": {
    "ExecuteTime": {
     "end_time": "2024-07-02T23:18:14.025161Z",
     "start_time": "2024-07-02T23:18:13.773499Z"
    }
   },
   "cell_type": "code",
   "source": [
    "messages = list(client.beta.threads.messages.list(thread_id=thread.id, run_id=run.id))\n",
    "\n",
    "message_content = messages[0].content[0].text\n",
    "annotations = message_content.annotations\n",
    "citations = []\n",
    "for index, annotation in enumerate(annotations):\n",
    "    message_content.value = message_content.value.replace(annotation.text, f\"[{index}]\")\n",
    "    if file_citation := getattr(annotation, \"file_citation\", None):\n",
    "        cited_file = client.files.retrieve(file_citation.file_id)\n",
    "        citations.append(f\"[{index}] {cited_file.filename}\")\n",
    "\n",
    "print(message_content.value)\n",
    "print(\"\\n\".join(citations))"
   ],
   "id": "8e0f55666d67eb39",
   "outputs": [
    {
     "name": "stdout",
     "output_type": "stream",
     "text": [
      "{\n",
      "  \"technology_purchases\": [\n",
      "    {\n",
      "      \"technology_system_name\": \"Versadex Records Management System\",\n",
      "      \"developer_company_name\": \"Versaterm Public Safety Inc.\",\n",
      "      \"deploying_company_name\": \"Versaterm Public Safety Inc.\",\n",
      "      \"budget\": 4445367,\n",
      "      \"start_date\": \"2024-11-05\",\n",
      "      \"end_date\": \"2028-11-04\"\n",
      "    }\n",
      "  ]\n",
      "}\n",
      "\n"
     ]
    }
   ],
   "execution_count": 8
  },
  {
   "metadata": {
    "ExecuteTime": {
     "end_time": "2024-07-02T23:18:14.029506Z",
     "start_time": "2024-07-02T23:18:14.026744Z"
    }
   },
   "cell_type": "code",
   "source": "",
   "id": "8acf9b66af9c1e45",
   "outputs": [],
   "execution_count": 8
  }
 ],
 "metadata": {
  "kernelspec": {
   "display_name": "Python 3",
   "language": "python",
   "name": "python3"
  },
  "language_info": {
   "codemirror_mode": {
    "name": "ipython",
    "version": 2
   },
   "file_extension": ".py",
   "mimetype": "text/x-python",
   "name": "python",
   "nbconvert_exporter": "python",
   "pygments_lexer": "ipython2",
   "version": "2.7.6"
  }
 },
 "nbformat": 4,
 "nbformat_minor": 5
}
