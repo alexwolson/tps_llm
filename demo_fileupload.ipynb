{
 "cells": [
  {
   "cell_type": "code",
   "id": "initial_id",
   "metadata": {
    "collapsed": true,
    "ExecuteTime": {
     "end_time": "2024-07-02T17:54:28.474714Z",
     "start_time": "2024-07-02T17:54:28.454832Z"
    }
   },
   "source": [
    "from openai import OpenAI\n",
    "from pathlib import Path\n",
    "\n",
    "key = open('openai.key').read().strip()\n",
    "client = OpenAI(api_key=key, organization='org-l0QXnTWrsY221IPu8QIF1k1H', project='proj_hdXOnDa32fjKeT330EowFZsc')"
   ],
   "outputs": [],
   "execution_count": 11
  },
  {
   "metadata": {
    "ExecuteTime": {
     "end_time": "2024-07-02T17:54:28.669344Z",
     "start_time": "2024-07-02T17:54:28.665568Z"
    }
   },
   "cell_type": "code",
   "source": "pdf_path = Path('public_agenda_june24_.pdf')",
   "id": "cc0a9cd6971ec526",
   "outputs": [],
   "execution_count": 12
  },
  {
   "metadata": {
    "ExecuteTime": {
     "end_time": "2024-07-02T18:01:13.858589Z",
     "start_time": "2024-07-02T18:01:07.677904Z"
    }
   },
   "cell_type": "code",
   "source": "message_file = client.files.create(file=pdf_path, purpose='assistants')",
   "id": "587f165850bdcbc6",
   "outputs": [],
   "execution_count": 23
  },
  {
   "metadata": {
    "ExecuteTime": {
     "end_time": "2024-07-02T18:01:43.336644Z",
     "start_time": "2024-07-02T18:01:42.582902Z"
    }
   },
   "cell_type": "code",
   "source": [
    "thread = client.beta.threads.create(\n",
    "    messages=[\n",
    "        {\n",
    "            \"role\": \"user\",\n",
    "            \"content\": \"list any mentions of technology purchases in the document\",\n",
    "            \"attachments\": [\n",
    "                { \"file_id\": message_file.id, \"tools\": [{\"type\": \"file_search\"}] }\n",
    "            ],\n",
    "        }\n",
    "    ]\n",
    ")"
   ],
   "id": "dbfe3fb08119173f",
   "outputs": [],
   "execution_count": 24
  },
  {
   "metadata": {
    "ExecuteTime": {
     "end_time": "2024-07-02T18:04:49.245002Z",
     "start_time": "2024-07-02T18:04:49.004654Z"
    }
   },
   "cell_type": "code",
   "source": [
    "assistant = client.beta.assistants.create(\n",
    "    name=\"Technology Purchases\",\n",
    "    instructions=\"You are a research assistant. Your task is to list any mentions of technology purchases in the document.\",\n",
    "    model='gpt-4o',\n",
    "    tools=[{\"type\": \"file_search\"}],\n",
    ")"
   ],
   "id": "b8bc8369fa528b8a",
   "outputs": [],
   "execution_count": 28
  },
  {
   "metadata": {
    "ExecuteTime": {
     "end_time": "2024-07-02T18:05:31.431057Z",
     "start_time": "2024-07-02T18:05:15.512048Z"
    }
   },
   "cell_type": "code",
   "source": [
    "run = client.beta.threads.runs.create_and_poll(\n",
    "    thread_id=thread.id, assistant_id=assistant.id\n",
    ")"
   ],
   "id": "c309026c336ab186",
   "outputs": [],
   "execution_count": 30
  },
  {
   "metadata": {
    "ExecuteTime": {
     "end_time": "2024-07-02T18:05:34.512486Z",
     "start_time": "2024-07-02T18:05:31.433375Z"
    }
   },
   "cell_type": "code",
   "source": [
    "messages = list(client.beta.threads.messages.list(thread_id=thread.id, run_id=run.id))\n",
    "\n",
    "message_content = messages[0].content[0].text\n",
    "annotations = message_content.annotations\n",
    "citations = []\n",
    "for index, annotation in enumerate(annotations):\n",
    "    message_content.value = message_content.value.replace(annotation.text, f\"[{index}]\")\n",
    "    if file_citation := getattr(annotation, \"file_citation\", None):\n",
    "        cited_file = client.files.retrieve(file_citation.file_id)\n",
    "        citations.append(f\"[{index}] {cited_file.filename}\")\n",
    "\n",
    "print(message_content.value)\n",
    "print(\"\\n\".join(citations))"
   ],
   "id": "8e0f55666d67eb39",
   "outputs": [
    {
     "name": "stdout",
     "output_type": "stream",
     "text": [
      "The mentions of technology purchases in the document include the following:\n",
      "\n",
      "1. **Versadex R.M.S. software support and maintenance**:\n",
      "   - The extended and increased contract with Versaterm for Versadex Records Management System (R.M.S.) software support and maintenance is detailed. The estimated cost for the period from November 5, 2024, to November 4, 2028, is projected to be $4.45 million[0][1][2].\n",
      "\n",
      "2. **Upgradations to Video Bail Capabilities, Radio & Telecom capabilities**:\n",
      "   - Introduction and upgradation of Video Bail Capabilities in 5 police divisions.\n",
      "   - Upgraded Radio & Telecom capabilities are also mentioned as part of the Toronto Police Service Update[3][4].\n",
      "\n",
      "3. **Public Safety Data Portal and Community Technology**:\n",
      "   - An investment in modern technology for a public safety data portal to encourage open data for public safety in Toronto.\n",
      "   - Modern technology tools to improve communication through the Toronto Police Services app, video calling, social media, and various innovations to enhance neighbourhood safety[3][6].\n",
      "\n",
      "4. **Body-Worn Camera and Special Constable In-Car Camera System**:\n",
      "   - A pilot program and policies to implement body-worn cameras and in-car camera systems for Special Constables, expected to launch in Q2 2024[7][7].\n",
      "\n",
      "5. **Mobile Workstations and Windows 11 Rollout**:\n",
      "   - A significant project to upgrade to Windows 11, involving lifecycle replacements for mobile workstations in police vehicles, requiring $1.46 million in additional funding from the Workstation, Laptop, Printer Lifecycle project[1][1].\n",
      "\n",
      "6. **Infrastructure Lifecycle Replacement**:\n",
      "   - Enhancements for cloud-based modernization of data centers necessitating a request of $3.27 million from several project transfers to address cost pressures[1][12].\n",
      "\n",
      "These findings illustrate multiple technology upgrades and new purchases aimed at improving the infrastructure and operational efficiency of the Toronto Police Service.\n",
      "[0] public_agenda_june24_.pdf\n",
      "[1] public_agenda_june24_.pdf\n",
      "[2] public_agenda_june24_.pdf\n",
      "[3] public_agenda_june24_.pdf\n",
      "[4] public_agenda_june24_.pdf\n",
      "[5] public_agenda_june24_.pdf\n",
      "[6] public_agenda_june24_.pdf\n",
      "[7] public_agenda_june24_.pdf\n",
      "[8] public_agenda_june24_.pdf\n",
      "[9] public_agenda_june24_.pdf\n",
      "[10] public_agenda_june24_.pdf\n",
      "[11] public_agenda_june24_.pdf\n",
      "[12] public_agenda_june24_.pdf\n"
     ]
    }
   ],
   "execution_count": 31
  },
  {
   "metadata": {},
   "cell_type": "code",
   "outputs": [],
   "execution_count": null,
   "source": "",
   "id": "8acf9b66af9c1e45"
  }
 ],
 "metadata": {
  "kernelspec": {
   "display_name": "Python 3",
   "language": "python",
   "name": "python3"
  },
  "language_info": {
   "codemirror_mode": {
    "name": "ipython",
    "version": 2
   },
   "file_extension": ".py",
   "mimetype": "text/x-python",
   "name": "python",
   "nbconvert_exporter": "python",
   "pygments_lexer": "ipython2",
   "version": "2.7.6"
  }
 },
 "nbformat": 4,
 "nbformat_minor": 5
}
