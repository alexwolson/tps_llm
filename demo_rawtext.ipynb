{
 "cells": [
  {
   "cell_type": "code",
   "id": "initial_id",
   "metadata": {
    "collapsed": true,
    "ExecuteTime": {
     "end_time": "2024-07-02T18:07:20.992668Z",
     "start_time": "2024-07-02T18:07:20.154854Z"
    }
   },
   "source": [
    "from openai import OpenAI\n",
    "from pathlib import Path\n",
    "\n",
    "key = open('openai.key').read().strip()\n",
    "client = OpenAI(api_key=key, organization='org-l0QXnTWrsY221IPu8QIF1k1H', project='proj_hdXOnDa32fjKeT330EowFZsc')"
   ],
   "outputs": [],
   "execution_count": 1
  },
  {
   "metadata": {
    "ExecuteTime": {
     "end_time": "2024-07-02T18:07:20.997577Z",
     "start_time": "2024-07-02T18:07:20.994618Z"
    }
   },
   "cell_type": "code",
   "source": "txt_path = Path('public_agenda_june24_.txt')",
   "id": "cc0a9cd6971ec526",
   "outputs": [],
   "execution_count": 2
  },
  {
   "metadata": {
    "ExecuteTime": {
     "end_time": "2024-07-02T18:07:42.727047Z",
     "start_time": "2024-07-02T18:07:42.432425Z"
    }
   },
   "cell_type": "code",
   "source": [
    "assistant = client.beta.assistants.create(\n",
    "    name=\"Technology Purchases\",\n",
    "    instructions=\"You are a research assistant. Your task is to list any mentions of technology purchases in the document.\",\n",
    "    model='gpt-4o',\n",
    ")"
   ],
   "id": "a24f2f30c279cffb",
   "outputs": [],
   "execution_count": 3
  },
  {
   "metadata": {
    "ExecuteTime": {
     "end_time": "2024-07-02T18:09:43.428084Z",
     "start_time": "2024-07-02T18:09:39.914033Z"
    }
   },
   "cell_type": "code",
   "source": [
    "# Read 10000 characters from the text file at a time with overlap of 100\n",
    "with txt_path.open() as f:\n",
    "    text = f.read()\n",
    "    \n",
    "    for i in range(0, len(text), 9000):\n",
    "        chunk = text[i:i+10000]\n",
    "\n",
    "        thread = client.beta.threads.create(\n",
    "            messages=[\n",
    "                {\n",
    "                    \"role\": \"user\",\n",
    "                    \"content\": \"list any mentions of technology purchases in the following: \" + chunk,\n",
    "                }\n",
    "            ]\n",
    "        )\n",
    "    \n",
    "        run = client.beta.threads.runs.create_and_poll(\n",
    "            thread_id=thread.id, assistant_id=assistant.id\n",
    "        )\n",
    "    \n",
    "        messages = list(client.beta.threads.messages.list(thread_id=thread.id, run_id=run.id))\n",
    "    \n",
    "        message_content = messages[0].content[0].text\n",
    "        \n",
    "        print(message_content.value)\n",
    "        \n",
    "        break"
   ],
   "id": "2ec6b3469ade7a73",
   "outputs": [
    {
     "name": "stdout",
     "output_type": "stream",
     "text": [
      "Here are the mentions of technology purchases from the provided document:\n",
      "\n",
      "1. **May 21, 2024 from Myron Demkiw, Chief of Police Re: Contract Extension and Increase with Versaterm Public Safety Inc. for the Versadex Records Management System**.\n"
     ]
    }
   ],
   "execution_count": 5
  },
  {
   "metadata": {},
   "cell_type": "code",
   "outputs": [],
   "execution_count": null,
   "source": "",
   "id": "e0faa9ac09d20e7"
  }
 ],
 "metadata": {
  "kernelspec": {
   "display_name": "Python 3",
   "language": "python",
   "name": "python3"
  },
  "language_info": {
   "codemirror_mode": {
    "name": "ipython",
    "version": 2
   },
   "file_extension": ".py",
   "mimetype": "text/x-python",
   "name": "python",
   "nbconvert_exporter": "python",
   "pygments_lexer": "ipython2",
   "version": "2.7.6"
  }
 },
 "nbformat": 4,
 "nbformat_minor": 5
}
